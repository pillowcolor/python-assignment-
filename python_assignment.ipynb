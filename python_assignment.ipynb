{
  "nbformat": 4,
  "nbformat_minor": 0,
  "metadata": {
    "colab": {
      "provenance": []
    },
    "kernelspec": {
      "name": "python3",
      "display_name": "Python 3"
    },
    "language_info": {
      "name": "python"
    }
  },
  "cells": [
    {
      "cell_type": "markdown",
      "source": [
        "Examples on **w+,a+ and r+**"
      ],
      "metadata": {
        "id": "-_1zYa0_eqLu"
      }
    },
    {
      "cell_type": "code",
      "execution_count": 2,
      "metadata": {
        "id": "Izf4UFoftQ9Z",
        "colab": {
          "base_uri": "https://localhost:8080/"
        },
        "outputId": "dec0ffc4-cd3b-46bd-f5fc-7e0e8c34a5e1"
      },
      "outputs": [
        {
          "output_type": "stream",
          "name": "stdout",
          "text": [
            "roses are beautiful\n"
          ]
        }
      ],
      "source": [
        "myfile=open(\"flowers.txt\",\"r\")\n",
        "print(myfile.read())"
      ]
    },
    {
      "cell_type": "code",
      "source": [
        "myfile=open(\"flowers.txt\",\"w\")\n",
        "myfile.write(\"red roses are my favorite\")"
      ],
      "metadata": {
        "colab": {
          "base_uri": "https://localhost:8080/"
        },
        "id": "EzCoetPLcvDo",
        "outputId": "b1837b2f-d20c-42e9-ff74-4df09e1ea80d"
      },
      "execution_count": 3,
      "outputs": [
        {
          "output_type": "execute_result",
          "data": {
            "text/plain": [
              "25"
            ]
          },
          "metadata": {},
          "execution_count": 3
        }
      ]
    },
    {
      "cell_type": "code",
      "source": [
        "myfile=open(\"flowers.txt\",\"r\")\n",
        "print(myfile.read())"
      ],
      "metadata": {
        "colab": {
          "base_uri": "https://localhost:8080/"
        },
        "id": "0Dw3Gj-tdCtv",
        "outputId": "f9f7a6fc-6f7e-4658-ccab-7a8fa5eefe39"
      },
      "execution_count": 6,
      "outputs": [
        {
          "output_type": "stream",
          "name": "stdout",
          "text": [
            "red roses are my favorite\n"
          ]
        }
      ]
    },
    {
      "cell_type": "code",
      "source": [
        "myfile=open(\"flowers.txt\",\"a\")\n",
        "myfile.write(\"\\n blue roses are rare\")"
      ],
      "metadata": {
        "colab": {
          "base_uri": "https://localhost:8080/"
        },
        "id": "fcYNRxP8dbjg",
        "outputId": "74940577-9700-4c10-bd95-de6091e98784"
      },
      "execution_count": 7,
      "outputs": [
        {
          "output_type": "execute_result",
          "data": {
            "text/plain": [
              "21"
            ]
          },
          "metadata": {},
          "execution_count": 7
        }
      ]
    },
    {
      "cell_type": "code",
      "source": [
        "myfile=open(\"flowers.txt\",\"r\")\n",
        "print(myfile.read())"
      ],
      "metadata": {
        "colab": {
          "base_uri": "https://localhost:8080/"
        },
        "id": "CMqaGE_kd8tQ",
        "outputId": "d982cae8-2c12-474c-edd7-223661803dde"
      },
      "execution_count": 9,
      "outputs": [
        {
          "output_type": "stream",
          "name": "stdout",
          "text": [
            "red roses are my favorite\n",
            " blue roses are rare\n"
          ]
        }
      ]
    },
    {
      "cell_type": "markdown",
      "source": [
        "**simple** **calculator**"
      ],
      "metadata": {
        "id": "Gw7dBe0-e2jh"
      }
    },
    {
      "cell_type": "code",
      "source": [
        "print(\"select an operation to perform:\")\n",
        "print(\"1. ADD\")\n",
        "print(\"2. SUBTRACT\")\n",
        "print(\"3. MULTIPLY\")\n",
        "print(\"4. DIVIDE\")\n",
        "\n",
        "operation = input()\n",
        "\n",
        "if operation == \"1\":\n",
        "   num1 = (input(\"enter the first number: \"))\n",
        "   num2 = (input(\"enter the seond number: \"))\n",
        "   print(\" the sum is\", str(int(num1) + int(num2)))\n",
        "elif operation == \"2\":\n",
        "   num1 = (input(\"enter the first number: \"))\n",
        "   num2 = (input(\"enter the second number: \"))\n",
        "   print(\"the subtraction is\", str(int(num1) - int(num2)))\n",
        "elif operation == \"3\":\n",
        "    num1 = (input(\"enter the first number: \"))\n",
        "    num2 = (input(\"enter the second number: \"))\n",
        "    print(\"the multiplication is\", str(int(num1) * int(num2)))\n",
        "elif operation == \"4\":\n",
        "    num1 = (input(\"enter the first number: \"))\n",
        "    num2 = (input(\"enter the second number: \"))\n",
        "    print(\"the result is\", str(int(num1) / int(num2)))\n",
        "else:\n",
        "  print(\"invalid entry\")\n"
      ],
      "metadata": {
        "colab": {
          "base_uri": "https://localhost:8080/"
        },
        "id": "ChN32sSkfHKR",
        "outputId": "0bc89681-8c00-49ca-f18e-ba703ce9e2f9"
      },
      "execution_count": 13,
      "outputs": [
        {
          "output_type": "stream",
          "name": "stdout",
          "text": [
            "select an operation to perform:\n",
            "1. ADD\n",
            "2. SUBTRACT\n",
            "3. MULTIPLY\n",
            "4. DIVIDE\n",
            "2\n",
            "enter the first number: 13\n",
            "enter the second number: 3\n",
            "the subtraction is 10\n"
          ]
        }
      ]
    }
  ]
}